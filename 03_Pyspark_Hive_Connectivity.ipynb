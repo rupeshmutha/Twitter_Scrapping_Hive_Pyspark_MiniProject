{
 "cells": [
  {
   "cell_type": "code",
   "execution_count": 1,
   "id": "ed984bf1",
   "metadata": {},
   "outputs": [],
   "source": [
    "# Intialization\n",
    "import os\n",
    "import sys\n",
    "\n",
    "os.environ[\"SPARK_HOME\"] = \"/home/talentum/spark\"\n",
    "os.environ[\"PYLIB\"] = os.environ[\"SPARK_HOME\"] + \"/python/lib\"\n",
    "# In below two lines, use /usr/bin/python2.7 if you want to use Python 2\n",
    "os.environ[\"PYSPARK_PYTHON\"] = \"/usr/bin/python3.6\" \n",
    "os.environ[\"PYSPARK_DRIVER_PYTHON\"] = \"/usr/bin/python3\"\n",
    "sys.path.insert(0, os.environ[\"PYLIB\"] +\"/py4j-0.10.7-src.zip\")\n",
    "sys.path.insert(0, os.environ[\"PYLIB\"] +\"/pyspark.zip\")\n",
    "\n",
    "# NOTE: Whichever package you want mention here.\n",
    "# os.environ['PYSPARK_SUBMIT_ARGS'] = '--packages com.databricks:spark-xml_2.11:0.6.0 pyspark-shell' \n",
    "# os.environ['PYSPARK_SUBMIT_ARGS'] = '--packages org.apache.spark:spark-avro_2.11:2.4.0 pyspark-shell'\n",
    "os.environ['PYSPARK_SUBMIT_ARGS'] = '--packages com.databricks:spark-xml_2.11:0.6.0,org.apache.spark:spark-avro_2.11:2.4.3 pyspark-shell'\n",
    "# os.environ['PYSPARK_SUBMIT_ARGS'] = '--packages com.databricks:spark-xml_2.11:0.6.0,org.apache.spark:spark-avro_2.11:2.4.0 pyspark-shell'"
   ]
  },
  {
   "cell_type": "code",
   "execution_count": 2,
   "id": "ac0bda35",
   "metadata": {},
   "outputs": [],
   "source": [
    "#Entrypoint 2.x\n",
    "from pyspark.sql import SparkSession\n",
    "spark = SparkSession.builder.appName(\"Spark SQL basic example\").enableHiveSupport().getOrCreate()\n",
    "\n",
    "# On yarn:\n",
    "# spark = SparkSession.builder.appName(\"Spark SQL basic example\").enableHiveSupport().master(\"yarn\").getOrCreate()\n",
    "# specify .master(\"yarn\")\n",
    "\n",
    "sc = spark.sparkContext"
   ]
  },
  {
   "cell_type": "code",
   "execution_count": 3,
   "id": "b9e859e2",
   "metadata": {},
   "outputs": [
    {
     "data": {
      "text/plain": [
       "DataFrame[]"
      ]
     },
     "execution_count": 3,
     "metadata": {},
     "output_type": "execute_result"
    }
   ],
   "source": [
    "spark.sql(\"use twitter\")"
   ]
  },
  {
   "cell_type": "code",
   "execution_count": 4,
   "id": "93cc412e",
   "metadata": {},
   "outputs": [],
   "source": [
    "df = spark.sql(\"select * from twit\")"
   ]
  },
  {
   "cell_type": "code",
   "execution_count": 5,
   "id": "71b2ca03",
   "metadata": {},
   "outputs": [
    {
     "data": {
      "text/plain": [
       "DataFrame[tw_date: string, id: int, url: string, username: string, source: string, location: string, tweet: string, num_of_likes: int, num_of_retweet: int]"
      ]
     },
     "execution_count": 5,
     "metadata": {},
     "output_type": "execute_result"
    }
   ],
   "source": [
    "df"
   ]
  },
  {
   "cell_type": "code",
   "execution_count": 6,
   "id": "a4729d23",
   "metadata": {},
   "outputs": [
    {
     "name": "stdout",
     "output_type": "stream",
     "text": [
      "root\n",
      " |-- tw_date: string (nullable = true)\n",
      " |-- id: integer (nullable = true)\n",
      " |-- url: string (nullable = true)\n",
      " |-- username: string (nullable = true)\n",
      " |-- source: string (nullable = true)\n",
      " |-- location: string (nullable = true)\n",
      " |-- tweet: string (nullable = true)\n",
      " |-- num_of_likes: integer (nullable = true)\n",
      " |-- num_of_retweet: integer (nullable = true)\n",
      "\n"
     ]
    }
   ],
   "source": [
    "df.printSchema()"
   ]
  },
  {
   "cell_type": "code",
   "execution_count": 7,
   "id": "677768d1",
   "metadata": {},
   "outputs": [
    {
     "data": {
      "text/plain": [
       "DataFrame[tw_date: string, id: int, url: string, username: string, source: string, location: string, tweet: string, num_of_likes: int, num_of_retweet: int]"
      ]
     },
     "execution_count": 7,
     "metadata": {},
     "output_type": "execute_result"
    }
   ],
   "source": [
    "spark.sql(\"select * from twit\")"
   ]
  },
  {
   "cell_type": "code",
   "execution_count": 8,
   "id": "35898d75",
   "metadata": {},
   "outputs": [
    {
     "name": "stdout",
     "output_type": "stream",
     "text": [
      "+--------------------+----+--------------------+---------------+-------------------+------------------+--------------------+------------+--------------+\n",
      "|             tw_date|  id|                 url|       username|             source|          location|               tweet|num_of_likes|num_of_retweet|\n",
      "+--------------------+----+--------------------+---------------+-------------------+------------------+--------------------+------------+--------------+\n",
      "|                Date|null|                 url|       username|             source|          location|               tweet|        null|          null|\n",
      "|2023-02-22 23:33:...|null|https://twitter.c...|    Anupbhatia7|Twitter for Android|           Unknown|#bjpIsittrueourho...|          26|             7|\n",
      "|2023-02-22 23:08:...|null|https://twitter.c...|   Dr__Antidote|Twitter for Android|             🇮🇳 |Indian#PrimeMinis...|          14|             5|\n",
      "|2023-02-22 23:07:...|null|https://twitter.c...|    Asifwani786|Twitter for Android| QUAZIGUND KASHMIR|@vinkalyac@AmitSh...|           9|             4|\n",
      "|2023-02-22 22:34:...|null|https://twitter.c...|suryakanthreddy|Twitter for Android|           Bellary|@drshamamohd@DrSJ...|           7|             1|\n",
      "|2023-02-22 22:22:...|null|https://twitter.c...|   kamran_malla|Twitter for Android|         \"Srinagar|    Jammu & Kashmir\"|        null|             1|\n",
      "|2023-02-22 22:18:...|null|https://twitter.c...|     vinkal_yac|Twitter for Android|            \"Jammu|     Jammu & Kashmir|        null|          null|\n",
      "|2023-02-22 22:15:...|null|https://twitter.c...|         ProSyn|            Emplifi|           Unknown|Actingasifallcrit...|         265|            77|\n",
      "|2023-02-22 21:51:...|null|https://twitter.c...|MyFellowIndians|Twitter for Android|           Unknown|Dekh@vivekagnihot...|        1040|           145|\n",
      "|2023-02-22 21:45:...|null|https://twitter.c...|Real_AnTheFacts|   Twitter for iPad|           Unknown|3hasbeentheIndian...|           1|             2|\n",
      "|2023-02-22 21:41:...|null|https://twitter.c...| ProfessorDeshi|Twitter for Android|             भारत |TheBBCinJanuaryre...|          10|             3|\n",
      "|2023-02-22 21:21:...|null|https://twitter.c...|     drgopal007|Twitter for Android|NAGPUR MAHARASHTRA|@mansukhmandviyaS...|           3|             3|\n",
      "|2023-02-22 21:20:...|null|https://twitter.c...|     girirajpai| Twitter for iPhone|              \"Goa|              India\"|        null|             8|\n",
      "|2023-02-22 20:55:...|null|https://twitter.c...|      jtnladakh|Twitter for Android|      Ladakh India|CongratulationsIn...|         747|           105|\n",
      "|2023-02-22 20:52:...|null|https://twitter.c...|    B5001001101|Twitter for Android|         Otherside|@vivekagnihotriNa...|          42|             9|\n",
      "|2023-02-22 20:42:...|null|https://twitter.c...|    KamalPremi2| Twitter for iPhone|          \"Chicago|                 IL\"|        null|             9|\n",
      "|2023-02-22 20:31:...|null|https://twitter.c...|DrSenthilIndian| Twitter for iPhone|            \"Dubai| United Arab Emir...|        null|            29|\n",
      "|2023-02-22 20:28:...|null|https://twitter.c...|NathaliPutrRexx|Twitter for Android| \"Rann Ni Runjn Ma|          Nala Paar\"|        null|            12|\n",
      "|2023-02-22 20:24:...|null|https://twitter.c...|Hilal_ahmed_dar|Twitter for Android|           Unknown|@ScCardozPlstell@...|           4|             3|\n",
      "|2023-02-22 19:50:...|null|https://twitter.c...|      suryakane| Twitter for iPhone|              \"Zug|        Switzerland\"|        null|            39|\n",
      "+--------------------+----+--------------------+---------------+-------------------+------------------+--------------------+------------+--------------+\n",
      "only showing top 20 rows\n",
      "\n"
     ]
    }
   ],
   "source": [
    "df.show()"
   ]
  },
  {
   "cell_type": "code",
   "execution_count": 9,
   "id": "49ad9b2a",
   "metadata": {},
   "outputs": [
    {
     "data": {
      "text/plain": [
       "pyspark.sql.dataframe.DataFrame"
      ]
     },
     "execution_count": 9,
     "metadata": {},
     "output_type": "execute_result"
    }
   ],
   "source": [
    "type(df)"
   ]
  },
  {
   "cell_type": "code",
   "execution_count": 10,
   "id": "5d9684bd",
   "metadata": {},
   "outputs": [
    {
     "name": "stdout",
     "output_type": "stream",
     "text": [
      "+--------------------+-----+\n",
      "|            location|count|\n",
      "+--------------------+-----+\n",
      "|           Bangalore|    4|\n",
      "|   Lost in the crowd|    3|\n",
      "|         \"Vijayawada|    1|\n",
      "|             Raichur|    1|\n",
      "|             \"Barbil|    1|\n",
      "|       Kallakurichi |    1|\n",
      "|    \"Bengaluru South|    2|\n",
      "|           \"Nainital|    1|\n",
      "|           \" Athgarh|    1|\n",
      "|Urbs Prima In Indis!|    1|\n",
      "|   QUAZIGUND KASHMIR|    1|\n",
      "|                \"6-A|    1|\n",
      "|         Blue planet|    1|\n",
      "|     \"Ministers Hill|    1|\n",
      "|        \"தொண்டை நாடு|    1|\n",
      "|             \"Manila|    1|\n",
      "|          \"Hindustan|    1|\n",
      "|    Santha Baraabara|    1|\n",
      "|                भारत|    1|\n",
      "|              Sweden|    1|\n",
      "+--------------------+-----+\n",
      "only showing top 20 rows\n",
      "\n"
     ]
    }
   ],
   "source": [
    "df.groupBy(\"location\").count().show()"
   ]
  },
  {
   "cell_type": "code",
   "execution_count": 17,
   "id": "04da3dc9",
   "metadata": {},
   "outputs": [
    {
     "name": "stdout",
     "output_type": "stream",
     "text": [
      "+--------------------+----+--------------------+------------+------------------+--------+--------+------------+--------------+\n",
      "|             tw_date|  id|                 url|    username|            source|location|   tweet|num_of_likes|num_of_retweet|\n",
      "+--------------------+----+--------------------+------------+------------------+--------+--------+------------+--------------+\n",
      "|2023-02-22 03:42:...|null|https://twitter.c...|narendramodi|Twitter for iPhone|   India|Verygood|       30257|          4890|\n",
      "+--------------------+----+--------------------+------------+------------------+--------+--------+------------+--------------+\n",
      "\n"
     ]
    }
   ],
   "source": [
    "# Find the tweet with the highest number of likes:\n",
    "df1=spark.sql(\"SELECT * FROM twit ORDER BY num_of_likes DESC LIMIT 1\")\n",
    "df1.show()"
   ]
  },
  {
   "cell_type": "code",
   "execution_count": 18,
   "id": "063dfacc",
   "metadata": {},
   "outputs": [
    {
     "name": "stdout",
     "output_type": "stream",
     "text": [
      "+--------------+-----------+\n",
      "|      username|tweet_count|\n",
      "+--------------+-----------+\n",
      "|TanyaGhosh2312|         14|\n",
      "+--------------+-----------+\n",
      "\n"
     ]
    }
   ],
   "source": [
    "# Find the user with the most number of tweets in this dataset:\n",
    "d3=spark.sql(\"SELECT username, COUNT(*) AS tweet_count FROM twit GROUP BY username ORDER BY tweet_count DESC LIMIT 1\")\n",
    "d3.show()"
   ]
  },
  {
   "cell_type": "code",
   "execution_count": 19,
   "id": "366fb9e5",
   "metadata": {},
   "outputs": [
    {
     "name": "stdout",
     "output_type": "stream",
     "text": [
      "+--------------------+----+--------------------+---------------+-------------------+-------------+--------------------+------------+--------------+\n",
      "|             tw_date|  id|                 url|       username|             source|     location|               tweet|num_of_likes|num_of_retweet|\n",
      "+--------------------+----+--------------------+---------------+-------------------+-------------+--------------------+------------+--------------+\n",
      "|2023-02-22 01:59:...|null|https://twitter.c...|     singhvarun| Twitter for iPhone|      \"Mumbai|              India\"|        null|          5430|\n",
      "|2023-02-22 03:42:...|null|https://twitter.c...|   narendramodi| Twitter for iPhone|        India|            Verygood|       30257|          4890|\n",
      "|2023-02-22 07:21:...|null|https://twitter.c...|theskindoctor13|Twitter for Android|\"Flower Mound|                 TX\"|        null|          4700|\n",
      "|2023-02-22 18:05:...|null|https://twitter.c...|    VarunKrRana|Twitter for Android|   \"New Delhi|              India\"|        null|          3484|\n",
      "|2023-02-21 11:54:...|null|https://twitter.c...|   narendramodi| Twitter for iPhone|        India|Todayisaspecialda...|       12070|          2930|\n",
      "+--------------------+----+--------------------+---------------+-------------------+-------------+--------------------+------------+--------------+\n",
      "\n"
     ]
    }
   ],
   "source": [
    "# Find the top 5 tweets with the most number of retweets:\n",
    "d4=spark.sql(\"SELECT * FROM twit ORDER BY num_of_retweet DESC LIMIT 5\")\n",
    "d4.show()"
   ]
  },
  {
   "cell_type": "code",
   "execution_count": 20,
   "id": "e78d6c0e",
   "metadata": {},
   "outputs": [
    {
     "name": "stdout",
     "output_type": "stream",
     "text": [
      "+-----------------+-----------------+\n",
      "|        avg_likes|     avg_retweets|\n",
      "+-----------------+-----------------+\n",
      "|276.5952023988006|98.66869918699187|\n",
      "+-----------------+-----------------+\n",
      "\n"
     ]
    }
   ],
   "source": [
    "# Find the average number of likes and retweets for all tweets in the dataset:\n",
    "d5=spark.sql(\"SELECT AVG(num_of_likes) AS avg_likes, AVG(num_of_retweet) AS avg_retweets FROM twit\")\n",
    "d5.show()"
   ]
  },
  {
   "cell_type": "code",
   "execution_count": 21,
   "id": "b4342c8d",
   "metadata": {},
   "outputs": [
    {
     "name": "stdout",
     "output_type": "stream",
     "text": [
      "+--------------------+-----------+\n",
      "|              source|tweet_count|\n",
      "+--------------------+-----------+\n",
      "|             Emplifi|          2|\n",
      "|ProxyCentral CNNn...|          2|\n",
      "|     Twitter Web App|        161|\n",
      "|Twitter Media Studio|         18|\n",
      "|              source|          1|\n",
      "|  Twitter for iPhone|        242|\n",
      "|              Buffer|          1|\n",
      "|    Twitter for iPad|          7|\n",
      "|           TweetDeck|         22|\n",
      "|          SocialFlow|          1|\n",
      "|          Desk Tweet|          1|\n",
      "|              Grabyo|          5|\n",
      "| Twitter for Android|        533|\n",
      "|             Echobox|          1|\n",
      "|            Hypefury|          1|\n",
      "|        Nanda8Tooter|          1|\n",
      "|      Hootsuite Inc.|          2|\n",
      "+--------------------+-----------+\n",
      "\n"
     ]
    }
   ],
   "source": [
    "# Find the number of tweets posted from each source (e.g., Twitter for Android, Twitter for iPhone):\n",
    "d6=spark.sql(\"SELECT source, COUNT(*) AS tweet_count FROM twit GROUP BY source\")\n",
    "d6.show()"
   ]
  },
  {
   "cell_type": "code",
   "execution_count": 22,
   "id": "41286d12",
   "metadata": {},
   "outputs": [
    {
     "name": "stdout",
     "output_type": "stream",
     "text": [
      "+--------------------+----+--------------------+-----------+-------------------+--------+--------------------+------------+--------------+\n",
      "|             tw_date|  id|                 url|   username|             source|location|               tweet|num_of_likes|num_of_retweet|\n",
      "+--------------------+----+--------------------+-----------+-------------------+--------+--------------------+------------+--------------+\n",
      "|2023-02-22 23:33:...|null|https://twitter.c...|Anupbhatia7|Twitter for Android| Unknown|#bjpIsittrueourho...|          26|             7|\n",
      "+--------------------+----+--------------------+-----------+-------------------+--------+--------------------+------------+--------------+\n",
      "\n"
     ]
    }
   ],
   "source": [
    "# Find the tweets posted by a specific user (e.g., Anupbhatia7):\n",
    "d7=spark.sql(\"SELECT * FROM twit WHERE username = 'Anupbhatia7'\")\n",
    "d7.show()"
   ]
  },
  {
   "cell_type": "code",
   "execution_count": 24,
   "id": "fab1ac92",
   "metadata": {},
   "outputs": [
    {
     "name": "stdout",
     "output_type": "stream",
     "text": [
      "+--------------------+----+--------------------+---------------+-------------------+--------------------+--------------------+------------+--------------+\n",
      "|             tw_date|  id|                 url|       username|             source|            location|               tweet|num_of_likes|num_of_retweet|\n",
      "+--------------------+----+--------------------+---------------+-------------------+--------------------+--------------------+------------+--------------+\n",
      "|2023-02-22 18:27:...|null|https://twitter.c...|     vijeshetty| Twitter for iPhone|          \"Bengaluru|              India\"|        null|            45|\n",
      "|2023-02-22 18:16:...|null|https://twitter.c...|     sreebalann| Twitter for iPhone|             Unknown|GeorgeSOROSwasbeh...|          11|             5|\n",
      "|2023-02-22 18:14:...|null|https://twitter.c...|     PC67761415|Twitter for Android|             Unknown|@QamarcheemaWatch...|          25|            25|\n",
      "|2023-02-22 18:12:...|null|https://twitter.c...|   HardeepSPuri| Twitter for iPhone|          \"New Delhi|              India\"|        null|           192|\n",
      "|2023-02-22 18:12:...|null|https://twitter.c...|GautamChakraba6|Twitter for Android|           \"Guwahati|              India\"|        null|             4|\n",
      "|2023-02-22 18:08:...|null|https://twitter.c...|  BharathMuthya| Twitter for iPhone|          \"Bengaluru|              India\"|        null|           145|\n",
      "|2023-02-22 18:07:...|null|https://twitter.c...|     IndiaToday|    Twitter Web App|               India|FormerKarnatakaCh...|          15|             9|\n",
      "|2023-02-22 18:05:...|null|https://twitter.c...|      HinduStop|Twitter for Android|              Bhoomi|Kudosto@NirajAnta...|          27|            12|\n",
      "|2023-02-22 18:05:...|null|https://twitter.c...|    VarunKrRana|Twitter for Android|          \"New Delhi|              India\"|        null|          3484|\n",
      "|2023-02-22 17:58:...|null|https://twitter.c...|    alashshukla|Twitter for Android|             Aligarh|Day844AsdecidedWi...|           3|             1|\n",
      "|2023-02-22 17:57:...|null|https://twitter.c...|  AmitBagaria12| Twitter for iPhone|             Unknown|@drshamamohd@DrSJ...|         130|             3|\n",
      "|2023-02-22 17:55:...|null|https://twitter.c...|   madhukishwar| Twitter for iPhone|          \"New Delhi|              India\"|        null|            50|\n",
      "|2023-02-22 17:51:...|null|https://twitter.c...|     baldwhiner| Twitter for iPhone|        Saint Helena|@veerappavenkap1@...|           8|             1|\n",
      "|2023-02-22 17:42:...|null|https://twitter.c...|    jayants1977| Twitter for iPhone|             \"Dwarka|          New Delhi\"|        null|             4|\n",
      "|2023-02-22 17:38:...|null|https://twitter.c...|       GappaDur|Twitter for Android|             \"Yadgir|              India\"|        null|            24|\n",
      "|2023-02-22 17:34:...|null|https://twitter.c...|      realkapur|Twitter for Android|          \"New Delhi|              India\"|        null|             4|\n",
      "|2023-02-22 17:33:...|null|https://twitter.c...|         HMSKTK|Twitter for Android|          \"Karnataka|              India\"|        null|            55|\n",
      "|2023-02-22 17:32:...|null|https://twitter.c...| SATNAMS_SANDHU|Twitter for Android|         \"Chandigarh|              India\"|        null|             3|\n",
      "|2023-02-22 17:32:...|null|https://twitter.c...|    izeenatrana| Twitter for iPhone|\"Himachal/Chandigarh|              India\"|        null|            18|\n",
      "|2023-02-22 17:31:...|null|https://twitter.c...|  KA_HomeBuyers|Twitter for Android|           Bengaluru|ElectionManifesto...|          17|            10|\n",
      "+--------------------+----+--------------------+---------------+-------------------+--------------------+--------------------+------------+--------------+\n",
      "only showing top 20 rows\n",
      "\n"
     ]
    }
   ],
   "source": [
    "# Find the tweets posted on a specific date (e.g., February 22, 2023):\n",
    "d8=spark.sql(\"SELECT * FROM twit WHERE DATE_TRUNC('day', tw_date) = '2023-02-22'\")\n",
    "d8.show()"
   ]
  }
 ],
 "metadata": {
  "kernelspec": {
   "display_name": "Python 3",
   "language": "python",
   "name": "python3"
  },
  "language_info": {
   "codemirror_mode": {
    "name": "ipython",
    "version": 3
   },
   "file_extension": ".py",
   "mimetype": "text/x-python",
   "name": "python",
   "nbconvert_exporter": "python",
   "pygments_lexer": "ipython3",
   "version": "3.6.9"
  }
 },
 "nbformat": 4,
 "nbformat_minor": 5
}
